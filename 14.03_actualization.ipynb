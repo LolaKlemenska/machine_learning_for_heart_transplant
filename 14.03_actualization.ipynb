{
 "cells": [
  {
   "cell_type": "code",
   "execution_count": 1,
   "metadata": {},
   "outputs": [],
   "source": [
    "import pandas as pd\n",
    "import os\n",
    "\n",
    "folder_path = input(\"Podaj ścieżkę do plików EXCELA:\")\n",
    "pacjenci = []\n",
    "\n",
    "if os.path.isdir(folder_path):\n",
    "    print(\"Przeszukiwanie folderu:\", folder_path)\n",
    "    znalezione_pliki = False\n",
    "    for plik in os.listdir(folder_path):\n",
    "        if plik.endswith('.xlsx') and not plik.startswith('~$'):\n",
    "            znalezione_pliki = True\n",
    "            pacjenci.append(plik)"
   ]
  },
  {
   "cell_type": "code",
   "execution_count": null,
   "metadata": {},
   "outputs": [],
   "source": [
    "\n",
    "rows = ['Pole pow. l. przeds.', 'LAESV (A-L BIP)', 'LAESV (MOD BIP)', \n",
    "      'LVCO (4D Auto LVQ)', 'LVEF (Teich)', 'LVEF (4D Auto LVQ)',\n",
    "      'GLPS (4D Auto LVQ)','LVIDd','LVIDs', 'IVSd', 'Masa LVd (4D Auto LVQ)',\n",
    "      'LVPWd', 'LVSV (Teich)', 'LVSV (4D Auto LVQ)', 'LVCO (MOD BIP)',\n",
    "      'LVEF (Auto EF BIP)', 'LVSV (Auto EF BIP)', 'LVEDV (Auto EF BIP)',\n",
    "      'LVESV (Auto EF BIP)', 'RAA (s)', 'TAPSE']\n",
    "\n",
    "combined_data = pd.DataFrame()"
   ]
  },
  {
   "cell_type": "code",
   "execution_count": null,
   "metadata": {},
   "outputs": [],
   "source": [
    "for pacjent in pacjenci:\n",
    "    file_path = os.path.join(folder_path, pacjent)\n",
    "    file = pd.read_excel(file_path)\n",
    "    for value in rows:\n",
    "        filter = file[\"Krótka etykieta\"] == value\n",
    "        filtered_data = file[filter]\n",
    "        filtered_data.insert(0, 'nazwa pacjenta', pacjent)\n",
    "        selected_columns = ['nazwa pacjenta', 'Krótka etykieta', 'Zapisana wartość']\n",
    "        filtered_data = filtered_data[selected_columns]\n",
    "        combined_data = pd.concat([combined_data, filtered_data])"
   ]
  },
  {
   "cell_type": "code",
   "execution_count": null,
   "metadata": {},
   "outputs": [],
   "source": [
    "pivot_data = combined_data.pivot_table(index='nazwa pacjenta', columns='Krótka etykieta', values='Zapisana wartość', aggfunc='first')"
   ]
  },
  {
   "cell_type": "code",
   "execution_count": null,
   "metadata": {},
   "outputs": [],
   "source": [
    "output_file = os.path.join(folder_path, 'output', 'dane1.xlsx')\n",
    "with pd.ExcelWriter(output_file, engine='openpyxl') as writer:\n",
    "    pivot_data.to_excel(writer, index=True, sheet_name='out')"
   ]
  },
  {
   "cell_type": "code",
   "execution_count": null,
   "metadata": {},
   "outputs": [],
   "source": [
    "df = pd.read_excel(output_file)\n",
    "for value in rows:\n",
    "    values = df[f'{value}'].tolist()\n",
    "    srednia = (sum(values)/2)\n",
    "    print(f'srednia dla {value} wynosi {srednia}')"
   ]
  },
  {
   "cell_type": "code",
   "execution_count": null,
   "metadata": {},
   "outputs": [],
   "source": [
    "for value in rows:\n",
    "    s = df[value].std()\n",
    "    values = df[f'{value}'].tolist()\n",
    "    srednia = df[value].mean()\n",
    "    for x in values:\n",
    "        wynik = (x-srednia)/s\n",
    "        \n",
    "for row in rows:\n",
    "    for index, value in enumerate(df[row]):\n",
    "        df[row][index] = (value - df[row].mean())/df[row].std()\n",
    "print(df)"
   ]
  }
 ],
 "metadata": {
  "kernelspec": {
   "display_name": "Python 3",
   "language": "python",
   "name": "python3"
  },
  "language_info": {
   "codemirror_mode": {
    "name": "ipython",
    "version": 3
   },
   "file_extension": ".py",
   "mimetype": "text/x-python",
   "name": "python",
   "nbconvert_exporter": "python",
   "pygments_lexer": "ipython3",
   "version": "3.11.6"
  }
 },
 "nbformat": 4,
 "nbformat_minor": 2
}
